{
 "cells": [
  {
   "cell_type": "raw",
   "id": "ef2588a0-e1c5-4182-95b3-7269a5ff4288",
   "metadata": {},
   "source": [
    "no linux acesso meu ambiente virtual\n",
    "\n",
    "conda env list\n",
    "conda activate AmbienteVirtualAula\n",
    "\n",
    "instalado o programa de converção para .py\n",
    "#!pip install ipynb-py-convert\n"
   ]
  },
  {
   "cell_type": "code",
   "execution_count": 1,
   "id": "415caaea-b3da-4706-80c7-9e305bcd893e",
   "metadata": {},
   "outputs": [
    {
     "name": "stdout",
     "output_type": "stream",
     "text": [
      " aula5.ipynb\n",
      " Aula6_pesquisa_site.ipynb\n",
      "'Canais Prontos.csv'\n",
      " CanaisProntosIDFChuva.csv\n",
      " CanaisProntosPeriododeRetornoChuva.csv\n",
      "'Canais Youtube.csv'\n",
      "'Gabarito - Python para exe 04_aula6.ipynb'\n",
      "'Gabarito - Python para exe 04.ipynb'\n",
      " Pesquisa_site_2.ipynb\n",
      " Pesquisa_site.ipynb\n",
      " pesquisayoutube.csv\n",
      "'Python para exe 04.ipynb'\n",
      " Refazer_aula33_modulo29_25.ipynb\n"
     ]
    }
   ],
   "source": [
    "#ver o que tenho na pasta atual\n",
    "!ls"
   ]
  },
  {
   "cell_type": "code",
   "execution_count": 2,
   "id": "c525d0c7-97b7-4b2a-824f-142c0412f67f",
   "metadata": {},
   "outputs": [],
   "source": [
    "!ipynb-py-convert Pesquisa_site_2.ipynb Pesquisa_site_2_convertendo.py"
   ]
  },
  {
   "cell_type": "code",
   "execution_count": 10,
   "id": "e3cdce07-ddfc-4716-93b1-ec89f8c95ceb",
   "metadata": {},
   "outputs": [
    {
     "name": "stdout",
     "output_type": "stream",
     "text": [
      " aula5.ipynb\n",
      " Aula6_pesquisa_site.ipynb\n",
      "'Canais Prontos.csv'\n",
      " CanaisProntosIDFChuva.csv\n",
      " CanaisProntosPeriododeRetornoChuva.csv\n",
      "'Canais Youtube.csv'\n",
      "'Gabarito - Python para exe 04_aula6.ipynb'\n",
      "'Gabarito - Python para exe 04.ipynb'\n",
      " Pesquisa_site_2_convertendo.py\n",
      " Pesquisa_site_2.ipynb\n",
      " Pesquisa_site.ipynb\n",
      " pesquisayoutube.csv\n",
      "'Python para exe 04.ipynb'\n",
      " Refazer_aula33_modulo29_25.ipynb\n"
     ]
    }
   ],
   "source": [
    "#!ls -ltrh\n",
    "!ls"
   ]
  },
  {
   "cell_type": "code",
   "execution_count": 7,
   "id": "6466dcf2-1064-403a-8497-e6d10f422082",
   "metadata": {},
   "outputs": [],
   "source": [
    "#!pip install pyinstaller\n",
    "#instalar para transformar .py em .exe"
   ]
  },
  {
   "cell_type": "code",
   "execution_count": 9,
   "id": "16016235-9a80-4744-916b-d252b5a4d64f",
   "metadata": {},
   "outputs": [],
   "source": [
    "#verificar se o script funciona\n",
    "#!python Pesquisa_site_2_convertendo.py\n",
    "#rodar no ambinete onde esta instalado o selenium no ambiente base\n",
    "#funciona normalmente\n",
    "#comoo: !python3 Pesquisa_site_2_convertendo.py\n",
    "#tirar o display, para print"
   ]
  },
  {
   "cell_type": "code",
   "execution_count": 12,
   "id": "7db055b6-1b6d-419b-9435-da89707846ef",
   "metadata": {},
   "outputs": [],
   "source": [
    "#instalei no ambiente virtual\n",
    "#!pip install auto-py-to-exe"
   ]
  },
  {
   "cell_type": "raw",
   "id": "bffb7c7f-55ba-4689-b09b-56ec44595e8d",
   "metadata": {},
   "source": [
    "rodar o programa\n",
    "#!auto-py-to-exe"
   ]
  },
  {
   "cell_type": "code",
   "execution_count": 1,
   "id": "98d38e40-3ab7-4bae-9474-6c1b46fb88a8",
   "metadata": {},
   "outputs": [],
   "source": [
    "#comandos no terminal\n",
    "#pip install selenium\n",
    "#pip install webdriver_manager\n",
    "#history\n",
    "# auto-py-to-exe\n"
   ]
  },
  {
   "cell_type": "raw",
   "id": "2b12c28e-03b1-4c21-aedc-2902fd411bd3",
   "metadata": {},
   "source": [
    "criando o arquivo pesquisa_site executável sem programa,  executável a partir do auto-py-to-exe"
   ]
  },
  {
   "cell_type": "raw",
   "id": "30937a5d-a135-4712-9292-95cb11636d68",
   "metadata": {},
   "source": [
    "#colocar o chromedriver que esta nesta pasta  /anaconda3$ ls -ltr\n",
    "script locacion o arquivo em .py \n",
    "\n",
    "onefile\n",
    "ondirecty\n",
    "\n",
    "console windows\n",
    "console based\n",
    "\n",
    "advanced\n",
    "debug\n",
    "imports\n",
    "#clico em converter"
   ]
  },
  {
   "cell_type": "code",
   "execution_count": null,
   "id": "7ba71d15-927b-4d0d-ba4f-f8421b94f06e",
   "metadata": {},
   "outputs": [],
   "source": []
  }
 ],
 "metadata": {
  "kernelspec": {
   "display_name": "Python 3 (ipykernel)",
   "language": "python",
   "name": "python3"
  },
  "language_info": {
   "codemirror_mode": {
    "name": "ipython",
    "version": 3
   },
   "file_extension": ".py",
   "mimetype": "text/x-python",
   "name": "python",
   "nbconvert_exporter": "python",
   "pygments_lexer": "ipython3",
   "version": "3.11.5"
  }
 },
 "nbformat": 4,
 "nbformat_minor": 5
}
